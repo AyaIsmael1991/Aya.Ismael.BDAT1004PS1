{
 "cells": [
  {
   "cell_type": "code",
   "execution_count": 6,
   "id": "3f0e3cbe",
   "metadata": {},
   "outputs": [
    {
     "data": {
      "text/plain": [
       "['Hello', 'hi']"
      ]
     },
     "execution_count": 6,
     "metadata": {},
     "output_type": "execute_result"
    }
   ],
   "source": [
    "txt = \"Hello hi\"\n",
    "txt.split(\" \")"
   ]
  },
  {
   "cell_type": "code",
   "execution_count": 8,
   "id": "2d0759bd",
   "metadata": {},
   "outputs": [
    {
     "data": {
      "text/plain": [
       "'hellohi'"
      ]
     },
     "execution_count": 8,
     "metadata": {},
     "output_type": "execute_result"
    }
   ],
   "source": [
    "txt = \"HELLOHI\"\n",
    "txt.lower()"
   ]
  },
  {
   "cell_type": "code",
   "execution_count": 28,
   "id": "609cec27",
   "metadata": {},
   "outputs": [
    {
     "name": "stdout",
     "output_type": "stream",
     "text": [
      "appyhay\n",
      "enterway\n",
      "otherway\n",
      "encilpay\n"
     ]
    }
   ],
   "source": [
    "def pig(s):  # defining function pig \n",
    "    s=s.lower()  # converts s to lower case \n",
    "    s1=\"\"  # initializing s1 to empty string \n",
    "    if(s[0]=='a'or s[0]=='e'or s[0]=='i' or s[0]=='o' or s[0]=='u'): # checking if the first letter is vowels\n",
    "        s1=s+\"way\"  # just add way to end \n",
    "    else:\n",
    "        for i in range(1,len(s)):  # for loop to start from index 1 to len(s) \n",
    "            s1=s1+s[i]  # adding character by character to s1\n",
    "        s1=s1+s[0]+\"ay\" # adding first character to s1 and then add \"ay\" to end \n",
    "    return s1  # finally return to s1 \n",
    "\n",
    "print(pig(\"happy\"))  # calling pig() function \n",
    "print(pig(\"Enter\"))\n",
    "print(pig(\"Other\"))\n",
    "print(pig(\"pencil\"))"
   ]
  },
  {
   "cell_type": "code",
   "execution_count": 1,
   "id": "36b137ac",
   "metadata": {},
   "outputs": [
    {
     "data": {
      "text/plain": [
       "'A'"
      ]
     },
     "execution_count": 1,
     "metadata": {},
     "output_type": "execute_result"
    }
   ],
   "source": [
    "infile = open('bloodtype1.txt')\n",
    "infile.read(1)"
   ]
  },
  {
   "cell_type": "code",
   "execution_count": 5,
   "id": "a7aff5c3",
   "metadata": {},
   "outputs": [
    {
     "ename": "SyntaxError",
     "evalue": "invalid syntax (2236983597.py, line 1)",
     "output_type": "error",
     "traceback": [
      "\u001b[1;36m  File \u001b[1;32m\"C:\\Users\\basim\\AppData\\Local\\Temp\\ipykernel_16164\\2236983597.py\"\u001b[1;36m, line \u001b[1;32m1\u001b[0m\n\u001b[1;33m    def bldcount(bloodtype1.txt):\u001b[0m\n\u001b[1;37m                           ^\u001b[0m\n\u001b[1;31mSyntaxError\u001b[0m\u001b[1;31m:\u001b[0m invalid syntax\n"
     ]
    }
   ],
   "source": [
    "def bldcount(bloodtype1.txt):\n",
    "    try:\n",
    "        with open(bloodtype1.txt, 'r') as f:\n",
    "            o_count, a_count, b_count, ab_count, oo_count = 0, 0, 0, 0, 0\n",
    "            for line in f:\n",
    "                words = line.strip().upper().split(',')\n",
    "                blood = words[1].strip()\n",
    "                if blood == 'O':\n",
    "                    o_count += 1\n",
    "                if blood == 'A':\n",
    "                    a_count += 1\n",
    "                if blood == 'B':\n",
    "                    b_count += 1\n",
    "                if blood == 'AB':\n",
    "                    ab_count += 1\n",
    "                if blood == 'O0':\n",
    "                    oo_count += 1\n",
    "            if a_count == 0:\n",
    "                print(\"There are no patients of blood type A.\")\n",
    "            elif a_count == 1:\n",
    "                print(\"There is one patient of blood type A.\")\n",
    "            else:\n",
    "                print(\"There are {} patients with blood type A.\".format(a_count))\n",
    "\n",
    "            if b_count == 0:\n",
    "                print(\"There are no patients of blood type B.\")\n",
    "            elif b_count == 1:\n",
    "                print(\"There is one patient of blood type B.\")\n",
    "            else:\n",
    "                print(\"There are {} patients with blood type B.\".format(b_count))\n",
    "\n",
    "            if ab_count == 0:\n",
    "                print(\"There are no patients of blood type AB.\")\n",
    "            elif ab_count == 1:\n",
    "                print(\"There is one patient of blood type AB.\")\n",
    "            else:\n",
    "                print(\"There are {} patients with blood type AB.\".format(ab_count))\n",
    "\n",
    "            if o_count == 0:\n",
    "                print(\"There are no patients of blood type O.\")\n",
    "            elif o_count == 1:\n",
    "                print(\"There is one patient of blood type O.\")\n",
    "            else:\n",
    "                print(\"There are {} patients with blood type O.\".format(o_count))\n",
    "\n",
    "            if oo_count == 0:\n",
    "                print(\"There are no patients of blood type OO.\")\n",
    "            elif oo_count == 1:\n",
    "                print(\"There is one patient of blood type OO.\")\n",
    "            else:\n",
    "                print(\"There are {} patients with blood type OO.\".format(oo_count))"
   ]
  },
  {
   "cell_type": "code",
   "execution_count": 6,
   "id": "5d3b1e5f",
   "metadata": {},
   "outputs": [
    {
     "name": "stdout",
     "output_type": "stream",
     "text": [
      "122.96544\n"
     ]
    }
   ],
   "source": [
    "def curconv(a,b):\n",
    "    ans=0\n",
    "    l=['AUD','CHF','CNY','DKK','EUR','GBP','HKD','INR','JPY','MXN','MYR','NOK','NZD','PHP','SEK','SGD','THB']\n",
    "    l1=[1.0345157,1.0237414,0.1550176,0.1651442,1.2296544,1.5550989,0.1270207,0.0177643,0.01241401,0.0751848,0.3145411,0.1677063,0.8003591,0.0233234,0.148269,0.788871,0.0313789]\n",
    "    for i in range(len(l)):\n",
    "        if(l[i]==a):\n",
    "            ans=b*l1[i]\n",
    "            break\n",
    "    return ans\n",
    "print(curconv(\"EUR\",100))"
   ]
  },
  {
   "cell_type": "code",
   "execution_count": 7,
   "id": "f4b32603",
   "metadata": {},
   "outputs": [
    {
     "name": "stdout",
     "output_type": "stream",
     "text": [
      "1.241401\n"
     ]
    }
   ],
   "source": [
    "def curconv(a,b):\n",
    "    ans=0\n",
    "    l=['AUD','CHF','CNY','DKK','EUR','GBP','HKD','INR','JPY','MXN','MYR','NOK','NZD','PHP','SEK','SGD','THB']\n",
    "    l1=[1.0345157,1.0237414,0.1550176,0.1651442,1.2296544,1.5550989,0.1270207,0.0177643,0.01241401,0.0751848,0.3145411,0.1677063,0.8003591,0.0233234,0.148269,0.788871,0.0313789]\n",
    "    for i in range(len(l)):\n",
    "        if(l[i]==a):\n",
    "            ans=b*l1[i]\n",
    "            break\n",
    "    return ans\n",
    "print(curconv(\"JPY\",100))"
   ]
  },
  {
   "cell_type": "code",
   "execution_count": 4,
   "id": "f3446b36",
   "metadata": {},
   "outputs": [
    {
     "name": "stdout",
     "output_type": "stream",
     "text": [
      "122.96544\n"
     ]
    }
   ],
   "source": [
    "def curconv(a,b):\n",
    "    ans=0\n",
    "    l=['AUD','CHF','CNY','DKK','EUR','GBP','HKD','INR','JPY','MXN','MYR','NOK','NZD','PHP','SEK','SGD','THB']\n",
    "    l1=[1.0345157,1.0237414,0.1550176,0.1651442,1.2296544,1.5550989,0.1270207,0.0177643,0.01241401,0.0751848,0.3145411,0.1677063,0.8003591,0.0233234,0.148269,0.788871,0.0313789]\n",
    "    for i in range(len(l)):\n",
    "        if(l[i]==a):\n",
    "            ans=b*l1[i]\n",
    "            break\n",
    "    return ans\n",
    "print(curconv(\"EUR\",100))"
   ]
  },
  {
   "cell_type": "code",
   "execution_count": 6,
   "id": "dd8e4d73",
   "metadata": {},
   "outputs": [
    {
     "ename": "IndentationError",
     "evalue": "expected an indented block (79688149.py, line 4)",
     "output_type": "error",
     "traceback": [
      "\u001b[1;36m  File \u001b[1;32m\"C:\\Users\\basim\\AppData\\Local\\Temp\\ipykernel_13992\\79688149.py\"\u001b[1;36m, line \u001b[1;32m4\u001b[0m\n\u001b[1;33m    dict1=dict(OrderedDict(zip(string.ascii_lowercase,[0]*26)))\u001b[0m\n\u001b[1;37m    ^\u001b[0m\n\u001b[1;31mIndentationError\u001b[0m\u001b[1;31m:\u001b[0m expected an indented block\n"
     ]
    }
   ],
   "source": [
    "import string\n",
    "from collections import OrderedDict\n",
    "def frequencies(str1):\n",
    "dict1=dict(OrderedDict(zip(string.ascii_lowercase,[0]*26)))\n",
    "\n",
    "# iterate string to store the charcter's frequencies in dictionary.\n",
    "for i in range(0,len(str1)):\n",
    "if str1[i]=='a' or str1[i]=='A':\n",
    "dict1['a']+=1\n",
    "\n",
    "elif str1[i]=='b' or str1[i]=='B':\n",
    "dict1['b']+=1\n",
    "\n",
    "elif str1[i]=='c' or str1[i]=='c':\n",
    "dict1['c']+=1\n",
    "\n",
    "elif str1[i]=='d' or str1[i]=='D':\n",
    "dict1['d']+=1\n",
    "\n",
    "elif str1[i]=='e' or str1[i]=='E':\n",
    "dict1['e']+=1\n",
    "\n",
    "elif str1[i]=='f' or str1[i]=='F':\n",
    "dict1['f']+=1\n",
    "\n",
    "elif str1[i]=='g' or str1[i]=='G':\n",
    "dict1['g']+=1\n",
    "\n",
    "elif str1[i]=='h' or str1[i]=='H':\n",
    "dict1['h']+=1\n",
    "\n",
    "elif str1[i]=='i' or str1[i]=='I':\n",
    "dict1['i']+=1\n",
    "\n",
    "elif str1[i]=='j' or str1[i]=='J':\n",
    "dict1['j']+=1\n",
    "\n",
    "elif str1[i]=='k' or str1[i]=='K':\n",
    "dict1['k']+=1\n",
    "\n",
    "elif str1[i]=='l' or str1[i]=='L':\n",
    "dict1['l']+=1\n",
    "\n",
    "elif str1[i]=='m' or str1[i]=='M':\n",
    "dict1['m']+=1\n",
    "\n",
    "elif str1[i]=='n' or str1[i]=='N':\n",
    "dict1['n']+=1\n",
    "\n",
    "elif str1[i]=='o' or str1[i]=='O':\n",
    "dict1['o']+=1\n",
    "\n",
    "elif str1[i]=='p' or str1[i]=='P':\n",
    "dict1['p']+=1\n",
    "\n",
    "elif str1[i]=='q' or str1[i]=='Q':\n",
    "dict1['q']+=1\n",
    "\n",
    "elif str1[i]=='r' or str1[i]=='R':\n",
    "dict1['r']+=1\n",
    "\n",
    "elif str1[i]=='s' or str1[i]=='S':\n",
    "dict1['s']+=1\n",
    "\n",
    "elif str1[i]=='t' or str1[i]=='T':\n",
    "dict1['t']+=1\n",
    "\n",
    "elif str1[i]=='u' or str1[i]=='U':\n",
    "dict1['u']+=1\n",
    "\n",
    "elif str1[i]=='v' or str1[i]=='V':\n",
    "dict1['v']+=1\n",
    "\n",
    "elif str1[i]=='w' or str1[i]=='W':\n",
    "dict1['w']+=1\n",
    "\n",
    "elif str1[i]=='x' or str1[i]=='X':\n",
    "dict1['x']+=1\n",
    "\n",
    "elif str1[i]=='y' or str1[i]=='Y':\n",
    "dict1['y']+=1\n",
    "\n",
    "elif str1[i]=='z' or str1[i]=='Z':\n",
    "dict1['z']+=1\n",
    "\n",
    "# Return dictionary\n",
    "return dict1\n",
    "\n",
    "def main():\n",
    "str1=input(\"Enter String : \")\n",
    "dict1=frequencies(str1)\n",
    "print(\"Resultant Dictionary : \")\n",
    "print(dict1)\n",
    "\n",
    "if __name__==\"__main__\":\n",
    "main()"
   ]
  },
  {
   "cell_type": "code",
   "execution_count": null,
   "id": "64b1158b",
   "metadata": {},
   "outputs": [],
   "source": []
  }
 ],
 "metadata": {
  "kernelspec": {
   "display_name": "Python 3 (ipykernel)",
   "language": "python",
   "name": "python3"
  },
  "language_info": {
   "codemirror_mode": {
    "name": "ipython",
    "version": 3
   },
   "file_extension": ".py",
   "mimetype": "text/x-python",
   "name": "python",
   "nbconvert_exporter": "python",
   "pygments_lexer": "ipython3",
   "version": "3.9.13"
  }
 },
 "nbformat": 4,
 "nbformat_minor": 5
}
